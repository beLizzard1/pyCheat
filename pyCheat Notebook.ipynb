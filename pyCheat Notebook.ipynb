{
 "cells": [
  {
   "cell_type": "markdown",
   "metadata": {},
   "source": [
    "# pyCheat Notebook"
   ]
  },
  {
   "cell_type": "code",
   "execution_count": 1,
   "metadata": {
    "ExecuteTime": {
     "end_time": "2019-11-28T12:14:30.747569Z",
     "start_time": "2019-11-28T12:14:30.733579Z"
    }
   },
   "outputs": [],
   "source": [
    "# Import the various classes and enumerated types from the deckAndCards.py file\n",
    "from deckAndCards import Suit, Rank, Card, Deck\n",
    "from HandAndPile import Hand, Pile\n",
    "from cheatGame import Player, gameContainer"
   ]
  },
  {
   "cell_type": "code",
   "execution_count": 2,
   "metadata": {
    "ExecuteTime": {
     "end_time": "2019-11-28T12:14:30.757561Z",
     "start_time": "2019-11-28T12:14:30.749567Z"
    }
   },
   "outputs": [
    {
     "name": "stdout",
     "output_type": "stream",
     "text": [
      "🂱\n"
     ]
    }
   ],
   "source": [
    "# Create a test card and print it\n",
    "test = Card(Suit.HEARTS,Rank.ACE)\n",
    "print(test)"
   ]
  },
  {
   "cell_type": "code",
   "execution_count": 3,
   "metadata": {
    "ExecuteTime": {
     "end_time": "2019-11-28T12:14:30.763558Z",
     "start_time": "2019-11-28T12:14:30.759560Z"
    }
   },
   "outputs": [],
   "source": [
    "testDeck = Pile()"
   ]
  },
  {
   "cell_type": "code",
   "execution_count": 4,
   "metadata": {
    "ExecuteTime": {
     "end_time": "2019-11-28T12:14:30.769553Z",
     "start_time": "2019-11-28T12:14:30.766557Z"
    }
   },
   "outputs": [],
   "source": [
    "testDeck.populateWithFrenchPlayingDeck()"
   ]
  },
  {
   "cell_type": "code",
   "execution_count": 5,
   "metadata": {
    "ExecuteTime": {
     "end_time": "2019-11-28T12:14:30.776548Z",
     "start_time": "2019-11-28T12:14:30.772552Z"
    },
    "scrolled": true
   },
   "outputs": [
    {
     "name": "stdout",
     "output_type": "stream",
     "text": [
      "🂱🂲🂳🂴🂵🂶🂷🂸🂹🂺🂻🂼🂽🂡🂢🂣🂤🂥🂦🂧🂨🂩🂪🂫🂬🂭🃁🃂🃃🃄🃅🃆🃇🃈🃉🃊🃋🃌🃍🃑🃒🃓🃔🃕🃖🃗🃘🃙🃚🃛🃜🃝\n"
     ]
    }
   ],
   "source": [
    "print(testDeck)"
   ]
  },
  {
   "cell_type": "code",
   "execution_count": 6,
   "metadata": {
    "ExecuteTime": {
     "end_time": "2019-11-28T12:14:30.782544Z",
     "start_time": "2019-11-28T12:14:30.778546Z"
    }
   },
   "outputs": [
    {
     "name": "stdout",
     "output_type": "stream",
     "text": [
      "52\n"
     ]
    }
   ],
   "source": [
    "print(testDeck.getSizeOfDeck())"
   ]
  },
  {
   "cell_type": "code",
   "execution_count": 7,
   "metadata": {
    "ExecuteTime": {
     "end_time": "2019-11-28T12:14:30.787540Z",
     "start_time": "2019-11-28T12:14:30.784543Z"
    }
   },
   "outputs": [],
   "source": [
    "testGame = gameContainer(4)"
   ]
  },
  {
   "cell_type": "code",
   "execution_count": 8,
   "metadata": {
    "ExecuteTime": {
     "end_time": "2019-11-28T12:14:30.803529Z",
     "start_time": "2019-11-28T12:14:30.789539Z"
    }
   },
   "outputs": [
    {
     "data": {
      "text/plain": [
       "Player 1 has 52 cards in their hand. 🂧🃈🃑🂻🂣🂴🂨🃃🃄🃛🂦🃅🂶🃆🂽🃙🃔🃘🃚🂺🃗🃒🂷🃕🂸🂫🃜🂲🂤🃋🃌🂹🃇🂩🃓🃍🂼🃝🂳🃊🂪🂵🃁🃂🃖🂢🂭🃉🂱🂬🂡🂥"
      ]
     },
     "execution_count": 8,
     "metadata": {},
     "output_type": "execute_result"
    }
   ],
   "source": [
    "testGame.players[1]"
   ]
  },
  {
   "cell_type": "code",
   "execution_count": 9,
   "metadata": {
    "ExecuteTime": {
     "end_time": "2019-11-28T12:14:30.810525Z",
     "start_time": "2019-11-28T12:14:30.805528Z"
    }
   },
   "outputs": [
    {
     "data": {
      "text/plain": [
       "Player 0 has 52 cards in their hand. 🂧🃈🃑🂻🂣🂴🂨🃃🃄🃛🂦🃅🂶🃆🂽🃙🃔🃘🃚🂺🃗🃒🂷🃕🂸🂫🃜🂲🂤🃋🃌🂹🃇🂩🃓🃍🂼🃝🂳🃊🂪🂵🃁🃂🃖🂢🂭🃉🂱🂬🂡🂥"
      ]
     },
     "execution_count": 9,
     "metadata": {},
     "output_type": "execute_result"
    }
   ],
   "source": [
    "testGame.players[0]"
   ]
  },
  {
   "cell_type": "code",
   "execution_count": null,
   "metadata": {},
   "outputs": [],
   "source": []
  }
 ],
 "metadata": {
  "kernelspec": {
   "display_name": "Python 3",
   "language": "python",
   "name": "python3"
  },
  "language_info": {
   "codemirror_mode": {
    "name": "ipython",
    "version": 3
   },
   "file_extension": ".py",
   "mimetype": "text/x-python",
   "name": "python",
   "nbconvert_exporter": "python",
   "pygments_lexer": "ipython3",
   "version": "3.7.4"
  }
 },
 "nbformat": 4,
 "nbformat_minor": 2
}
