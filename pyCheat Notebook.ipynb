{
 "cells": [
  {
   "cell_type": "markdown",
   "metadata": {},
   "source": [
    "# pyCheat Notebook"
   ]
  },
  {
   "cell_type": "code",
   "execution_count": 1,
   "metadata": {
    "ExecuteTime": {
     "end_time": "2019-11-27T21:17:38.963897Z",
     "start_time": "2019-11-27T21:17:38.948908Z"
    }
   },
   "outputs": [],
   "source": [
    "# Import the various classes and enumerated types from the deckAndCards.py file\n",
    "from deckAndCards import Suit, Rank, Card, Deck"
   ]
  },
  {
   "cell_type": "code",
   "execution_count": 2,
   "metadata": {
    "ExecuteTime": {
     "end_time": "2019-11-27T21:17:38.974889Z",
     "start_time": "2019-11-27T21:17:38.965896Z"
    }
   },
   "outputs": [
    {
     "name": "stdout",
     "output_type": "stream",
     "text": [
      "🂱\n"
     ]
    }
   ],
   "source": [
    "# Create a test card and print it\n",
    "test = Card(Suit.HEARTS,Rank.ACE)\n",
    "print(test)"
   ]
  },
  {
   "cell_type": "code",
   "execution_count": 3,
   "metadata": {
    "ExecuteTime": {
     "end_time": "2019-11-27T21:17:38.980886Z",
     "start_time": "2019-11-27T21:17:38.976888Z"
    }
   },
   "outputs": [],
   "source": [
    "testDeck = Deck()"
   ]
  },
  {
   "cell_type": "code",
   "execution_count": 4,
   "metadata": {
    "ExecuteTime": {
     "end_time": "2019-11-27T21:17:38.986884Z",
     "start_time": "2019-11-27T21:17:38.982884Z"
    }
   },
   "outputs": [],
   "source": [
    "testDeck.populateWithFrenchPlayingDeck()"
   ]
  },
  {
   "cell_type": "code",
   "execution_count": 5,
   "metadata": {
    "ExecuteTime": {
     "end_time": "2019-11-27T21:17:38.992876Z",
     "start_time": "2019-11-27T21:17:38.988880Z"
    },
    "scrolled": true
   },
   "outputs": [
    {
     "name": "stdout",
     "output_type": "stream",
     "text": [
      "🂱🂲🂳🂴🂵🂶🂷🂸🂹🂺🂻🂼🂽🂡🂢🂣🂤🂥🂦🂧🂨🂩🂪🂫🂬🂭🃁🃂🃃🃄🃅🃆🃇🃈🃉🃊🃋🃌🃍🃑🃒🃓🃔🃕🃖🃗🃘🃙🃚🃛🃜🃝\n"
     ]
    }
   ],
   "source": [
    "print(testDeck)"
   ]
  },
  {
   "cell_type": "code",
   "execution_count": 6,
   "metadata": {
    "ExecuteTime": {
     "end_time": "2019-11-27T21:17:38.997872Z",
     "start_time": "2019-11-27T21:17:38.993876Z"
    }
   },
   "outputs": [
    {
     "name": "stdout",
     "output_type": "stream",
     "text": [
      "52\n"
     ]
    }
   ],
   "source": [
    "print(testDeck.getSizeOfDeck())"
   ]
  },
  {
   "cell_type": "code",
   "execution_count": null,
   "metadata": {},
   "outputs": [],
   "source": []
  }
 ],
 "metadata": {
  "kernelspec": {
   "display_name": "Python 3",
   "language": "python",
   "name": "python3"
  },
  "language_info": {
   "codemirror_mode": {
    "name": "ipython",
    "version": 3
   },
   "file_extension": ".py",
   "mimetype": "text/x-python",
   "name": "python",
   "nbconvert_exporter": "python",
   "pygments_lexer": "ipython3",
   "version": "3.7.4"
  }
 },
 "nbformat": 4,
 "nbformat_minor": 2
}
