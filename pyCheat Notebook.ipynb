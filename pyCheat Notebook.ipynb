{
 "cells": [
  {
   "cell_type": "markdown",
   "metadata": {},
   "source": [
    "# pyCheat Notebook"
   ]
  },
  {
   "cell_type": "code",
   "execution_count": 8,
   "metadata": {
    "ExecuteTime": {
     "end_time": "2019-11-28T17:52:43.606540Z",
     "start_time": "2019-11-28T17:52:43.602542Z"
    }
   },
   "outputs": [],
   "source": [
    "# Import the various classes and enumerated types from the deckAndCards.py file\n",
    "from deckAndCards import Suit, Rank, Card, Deck\n",
    "from HandAndPile import Hand, Pile\n",
    "from cheatGame import Player, gameContainer"
   ]
  },
  {
   "cell_type": "code",
   "execution_count": 9,
   "metadata": {
    "ExecuteTime": {
     "end_time": "2019-11-28T17:52:43.613534Z",
     "start_time": "2019-11-28T17:52:43.608537Z"
    }
   },
   "outputs": [
    {
     "name": "stdout",
     "output_type": "stream",
     "text": [
      "🂱\n"
     ]
    }
   ],
   "source": [
    "# Create a test card and print it\n",
    "test = Card(Suit.HEARTS,Rank.ACE)\n",
    "print(test)"
   ]
  },
  {
   "cell_type": "code",
   "execution_count": 10,
   "metadata": {
    "ExecuteTime": {
     "end_time": "2019-11-28T17:52:43.619528Z",
     "start_time": "2019-11-28T17:52:43.615531Z"
    }
   },
   "outputs": [],
   "source": [
    "# Create an empty Pile of cards\n",
    "testDeck = Pile()\n",
    "# Fill said Pile of cards with a full 52 card deck\n",
    "testDeck.populateWithFrenchPlayingDeck()"
   ]
  },
  {
   "cell_type": "code",
   "execution_count": 11,
   "metadata": {
    "ExecuteTime": {
     "end_time": "2019-11-28T17:52:43.625523Z",
     "start_time": "2019-11-28T17:52:43.621527Z"
    },
    "scrolled": true
   },
   "outputs": [
    {
     "name": "stdout",
     "output_type": "stream",
     "text": [
      "🂱🂲🂳🂴🂵🂶🂷🂸🂹🂺🂻🂼🂽🂡🂢🂣🂤🂥🂦🂧🂨🂩🂪🂫🂬🂭🃁🃂🃃🃄🃅🃆🃇🃈🃉🃊🃋🃌🃍🃑🃒🃓🃔🃕🃖🃗🃘🃙🃚🃛🃜🃝\n",
      "52\n"
     ]
    }
   ],
   "source": [
    "print(testDeck)\n",
    "print(len(testDeck))"
   ]
  },
  {
   "cell_type": "code",
   "execution_count": 14,
   "metadata": {
    "ExecuteTime": {
     "end_time": "2019-11-28T17:52:59.364541Z",
     "start_time": "2019-11-28T17:52:59.360543Z"
    }
   },
   "outputs": [],
   "source": [
    "# Now create a testGame with four players \n",
    "testGame = gameContainer(4)"
   ]
  },
  {
   "cell_type": "code",
   "execution_count": 15,
   "metadata": {
    "ExecuteTime": {
     "end_time": "2019-11-28T17:52:59.819601Z",
     "start_time": "2019-11-28T17:52:59.814605Z"
    },
    "scrolled": true
   },
   "outputs": [
    {
     "data": {
      "text/plain": [
       "[Player 0 has 13 cards in their hand. 🂨🂥🂪🂷🂤🃌🃗🂵🃑🂽🃁🃈🃆,\n",
       " Player 1 has 13 cards in their hand. 🃕🂫🃘🃂🃃🂭🃉🂦🂸🂼🂣🂲🂹,\n",
       " Player 2 has 13 cards in their hand. 🃖🂧🃊🃝🃅🂳🃒🃚🃔🂶🃍🃙🂻,\n",
       " Player 3 has 13 cards in their hand. 🃇🂬🃄🂩🃛🃋🂴🂱🂺🃜🂢🃓🂡]"
      ]
     },
     "execution_count": 15,
     "metadata": {},
     "output_type": "execute_result"
    }
   ],
   "source": [
    "# Summarise the player state after initialised\n",
    "testGame.players"
   ]
  },
  {
   "cell_type": "code",
   "execution_count": null,
   "metadata": {},
   "outputs": [],
   "source": []
  }
 ],
 "metadata": {
  "kernelspec": {
   "display_name": "Python 3",
   "language": "python",
   "name": "python3"
  },
  "language_info": {
   "codemirror_mode": {
    "name": "ipython",
    "version": 3
   },
   "file_extension": ".py",
   "mimetype": "text/x-python",
   "name": "python",
   "nbconvert_exporter": "python",
   "pygments_lexer": "ipython3",
   "version": "3.7.4"
  }
 },
 "nbformat": 4,
 "nbformat_minor": 2
}
