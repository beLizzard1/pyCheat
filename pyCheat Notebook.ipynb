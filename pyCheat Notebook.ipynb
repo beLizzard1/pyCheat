{
 "cells": [
  {
   "cell_type": "markdown",
   "metadata": {},
   "source": [
    "# pyCheat Notebook"
   ]
  },
  {
   "cell_type": "code",
   "execution_count": 19,
   "metadata": {
    "ExecuteTime": {
     "end_time": "2019-11-28T14:23:10.754498Z",
     "start_time": "2019-11-28T14:23:10.750501Z"
    }
   },
   "outputs": [],
   "source": [
    "# Import the various classes and enumerated types from the deckAndCards.py file\n",
    "from deckAndCards import Suit, Rank, Card, Deck\n",
    "from HandAndPile import Hand, Pile\n",
    "from cheatGame import Player, gameContainer"
   ]
  },
  {
   "cell_type": "code",
   "execution_count": 20,
   "metadata": {
    "ExecuteTime": {
     "end_time": "2019-11-28T14:23:10.759497Z",
     "start_time": "2019-11-28T14:23:10.756498Z"
    }
   },
   "outputs": [
    {
     "name": "stdout",
     "output_type": "stream",
     "text": [
      "🂱\n"
     ]
    }
   ],
   "source": [
    "# Create a test card and print it\n",
    "test = Card(Suit.HEARTS,Rank.ACE)\n",
    "print(test)"
   ]
  },
  {
   "cell_type": "code",
   "execution_count": 21,
   "metadata": {
    "ExecuteTime": {
     "end_time": "2019-11-28T14:23:10.764494Z",
     "start_time": "2019-11-28T14:23:10.761492Z"
    }
   },
   "outputs": [],
   "source": [
    "# Create an empty Pile of cards\n",
    "testDeck = Pile()\n",
    "# Fill said Pile of cards with a full 52 card deck\n",
    "testDeck.populateWithFrenchPlayingDeck()"
   ]
  },
  {
   "cell_type": "code",
   "execution_count": 22,
   "metadata": {
    "ExecuteTime": {
     "end_time": "2019-11-28T14:23:10.770486Z",
     "start_time": "2019-11-28T14:23:10.766489Z"
    },
    "scrolled": true
   },
   "outputs": [
    {
     "name": "stdout",
     "output_type": "stream",
     "text": [
      "🂱🂲🂳🂴🂵🂶🂷🂸🂹🂺🂻🂼🂽🂡🂢🂣🂤🂥🂦🂧🂨🂩🂪🂫🂬🂭🃁🃂🃃🃄🃅🃆🃇🃈🃉🃊🃋🃌🃍🃑🃒🃓🃔🃕🃖🃗🃘🃙🃚🃛🃜🃝\n",
      "52\n"
     ]
    }
   ],
   "source": [
    "print(testDeck)\n",
    "print(len(testDeck))"
   ]
  },
  {
   "cell_type": "code",
   "execution_count": 23,
   "metadata": {
    "ExecuteTime": {
     "end_time": "2019-11-28T14:23:10.775482Z",
     "start_time": "2019-11-28T14:23:10.771486Z"
    }
   },
   "outputs": [],
   "source": [
    "# Now create a testGame with four players \n",
    "testGame = gameContainer(4)"
   ]
  },
  {
   "cell_type": "code",
   "execution_count": 24,
   "metadata": {
    "ExecuteTime": {
     "end_time": "2019-11-28T14:23:10.782480Z",
     "start_time": "2019-11-28T14:23:10.777481Z"
    },
    "scrolled": true
   },
   "outputs": [
    {
     "data": {
      "text/plain": [
       "[Player 0 has 13 cards in their hand. 🃚🃅🂦🂻🂭🃗🂤🂣🂲🂫🂨🃓🃖,\n",
       " Player 1 has 13 cards in their hand. 🂧🃑🂺🂷🂸🂥🃔🃉🃂🂵🂽🂱🂩,\n",
       " Player 2 has 13 cards in their hand. 🃘🂳🃊🃆🂶🃃🃝🃒🂬🃋🂴🃄🃜,\n",
       " Player 3 has 13 cards in their hand. 🃌🂡🂪🃁🃛🃕🂼🂢🃇🂹🃙🃈🃍]"
      ]
     },
     "execution_count": 24,
     "metadata": {},
     "output_type": "execute_result"
    }
   ],
   "source": [
    "# Summarise the player state after initialised\n",
    "testGame.players"
   ]
  }
 ],
 "metadata": {
  "kernelspec": {
   "display_name": "Python 3",
   "language": "python",
   "name": "python3"
  },
  "language_info": {
   "codemirror_mode": {
    "name": "ipython",
    "version": 3
   },
   "file_extension": ".py",
   "mimetype": "text/x-python",
   "name": "python",
   "nbconvert_exporter": "python",
   "pygments_lexer": "ipython3",
   "version": "3.7.4"
  }
 },
 "nbformat": 4,
 "nbformat_minor": 2
}
